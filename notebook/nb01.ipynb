{
 "cells": [
  {
   "cell_type": "markdown",
   "metadata": {},
   "source": [
    "## 目的\n",
    "- ゲームの売上であるGlobal_Salesを予測変数とし, NN, 決定木, SVMで予測を行い, 精度を比較する"
   ]
  },
  {
   "cell_type": "markdown",
   "metadata": {},
   "source": [
    "### よく使うライブラリのimport"
   ]
  },
  {
   "cell_type": "code",
   "execution_count": 6,
   "metadata": {},
   "outputs": [],
   "source": [
    "import os, sys\n",
    "\n",
    "import pandas as pd\n",
    "import matplotlib.pyplot as plt\n",
    "import seaborn as sns\n",
    "import numpy as np\n",
    "%matplotlib inline\n",
    "sns.set()\n",
    "%config InlineBackend.figure_formats = {'png', 'retina'}"
   ]
  },
  {
   "cell_type": "markdown",
   "metadata": {},
   "source": [
    "### データの読み込み"
   ]
  },
  {
   "cell_type": "code",
   "execution_count": 7,
   "metadata": {},
   "outputs": [],
   "source": [
    "INPUT_DIR = '../inputs/'\n",
    "game_df = pd.read_csv(os.path.join(INPUT_DIR, 'Video_Games_Sales_as_at_22_Dec_2016.csv'))"
   ]
  },
  {
   "cell_type": "code",
   "execution_count": 12,
   "metadata": {},
   "outputs": [
    {
     "data": {
      "text/html": [
       "<div>\n",
       "<style scoped>\n",
       "    .dataframe tbody tr th:only-of-type {\n",
       "        vertical-align: middle;\n",
       "    }\n",
       "\n",
       "    .dataframe tbody tr th {\n",
       "        vertical-align: top;\n",
       "    }\n",
       "\n",
       "    .dataframe thead th {\n",
       "        text-align: right;\n",
       "    }\n",
       "</style>\n",
       "<table border=\"1\" class=\"dataframe\">\n",
       "  <thead>\n",
       "    <tr style=\"text-align: right;\">\n",
       "      <th></th>\n",
       "      <th>0</th>\n",
       "      <th>1</th>\n",
       "      <th>2</th>\n",
       "      <th>3</th>\n",
       "      <th>4</th>\n",
       "    </tr>\n",
       "  </thead>\n",
       "  <tbody>\n",
       "    <tr>\n",
       "      <th>Name</th>\n",
       "      <td>Wii Sports</td>\n",
       "      <td>Super Mario Bros.</td>\n",
       "      <td>Mario Kart Wii</td>\n",
       "      <td>Wii Sports Resort</td>\n",
       "      <td>Pokemon Red/Pokemon Blue</td>\n",
       "    </tr>\n",
       "    <tr>\n",
       "      <th>Platform</th>\n",
       "      <td>Wii</td>\n",
       "      <td>NES</td>\n",
       "      <td>Wii</td>\n",
       "      <td>Wii</td>\n",
       "      <td>GB</td>\n",
       "    </tr>\n",
       "    <tr>\n",
       "      <th>Year_of_Release</th>\n",
       "      <td>2006</td>\n",
       "      <td>1985</td>\n",
       "      <td>2008</td>\n",
       "      <td>2009</td>\n",
       "      <td>1996</td>\n",
       "    </tr>\n",
       "    <tr>\n",
       "      <th>Genre</th>\n",
       "      <td>Sports</td>\n",
       "      <td>Platform</td>\n",
       "      <td>Racing</td>\n",
       "      <td>Sports</td>\n",
       "      <td>Role-Playing</td>\n",
       "    </tr>\n",
       "    <tr>\n",
       "      <th>Publisher</th>\n",
       "      <td>Nintendo</td>\n",
       "      <td>Nintendo</td>\n",
       "      <td>Nintendo</td>\n",
       "      <td>Nintendo</td>\n",
       "      <td>Nintendo</td>\n",
       "    </tr>\n",
       "    <tr>\n",
       "      <th>NA_Sales</th>\n",
       "      <td>41.36</td>\n",
       "      <td>29.08</td>\n",
       "      <td>15.68</td>\n",
       "      <td>15.61</td>\n",
       "      <td>11.27</td>\n",
       "    </tr>\n",
       "    <tr>\n",
       "      <th>EU_Sales</th>\n",
       "      <td>28.96</td>\n",
       "      <td>3.58</td>\n",
       "      <td>12.76</td>\n",
       "      <td>10.93</td>\n",
       "      <td>8.89</td>\n",
       "    </tr>\n",
       "    <tr>\n",
       "      <th>JP_Sales</th>\n",
       "      <td>3.77</td>\n",
       "      <td>6.81</td>\n",
       "      <td>3.79</td>\n",
       "      <td>3.28</td>\n",
       "      <td>10.22</td>\n",
       "    </tr>\n",
       "    <tr>\n",
       "      <th>Other_Sales</th>\n",
       "      <td>8.45</td>\n",
       "      <td>0.77</td>\n",
       "      <td>3.29</td>\n",
       "      <td>2.95</td>\n",
       "      <td>1</td>\n",
       "    </tr>\n",
       "    <tr>\n",
       "      <th>Global_Sales</th>\n",
       "      <td>82.53</td>\n",
       "      <td>40.24</td>\n",
       "      <td>35.52</td>\n",
       "      <td>32.77</td>\n",
       "      <td>31.37</td>\n",
       "    </tr>\n",
       "    <tr>\n",
       "      <th>Critic_Score</th>\n",
       "      <td>76</td>\n",
       "      <td>NaN</td>\n",
       "      <td>82</td>\n",
       "      <td>80</td>\n",
       "      <td>NaN</td>\n",
       "    </tr>\n",
       "    <tr>\n",
       "      <th>Critic_Count</th>\n",
       "      <td>51</td>\n",
       "      <td>NaN</td>\n",
       "      <td>73</td>\n",
       "      <td>73</td>\n",
       "      <td>NaN</td>\n",
       "    </tr>\n",
       "    <tr>\n",
       "      <th>User_Score</th>\n",
       "      <td>8</td>\n",
       "      <td>NaN</td>\n",
       "      <td>8.3</td>\n",
       "      <td>8</td>\n",
       "      <td>NaN</td>\n",
       "    </tr>\n",
       "    <tr>\n",
       "      <th>User_Count</th>\n",
       "      <td>322</td>\n",
       "      <td>NaN</td>\n",
       "      <td>709</td>\n",
       "      <td>192</td>\n",
       "      <td>NaN</td>\n",
       "    </tr>\n",
       "    <tr>\n",
       "      <th>Developer</th>\n",
       "      <td>Nintendo</td>\n",
       "      <td>NaN</td>\n",
       "      <td>Nintendo</td>\n",
       "      <td>Nintendo</td>\n",
       "      <td>NaN</td>\n",
       "    </tr>\n",
       "    <tr>\n",
       "      <th>Rating</th>\n",
       "      <td>E</td>\n",
       "      <td>NaN</td>\n",
       "      <td>E</td>\n",
       "      <td>E</td>\n",
       "      <td>NaN</td>\n",
       "    </tr>\n",
       "  </tbody>\n",
       "</table>\n",
       "</div>"
      ],
      "text/plain": [
       "                          0                  1               2  \\\n",
       "Name             Wii Sports  Super Mario Bros.  Mario Kart Wii   \n",
       "Platform                Wii                NES             Wii   \n",
       "Year_of_Release        2006               1985            2008   \n",
       "Genre                Sports           Platform          Racing   \n",
       "Publisher          Nintendo           Nintendo        Nintendo   \n",
       "NA_Sales              41.36              29.08           15.68   \n",
       "EU_Sales              28.96               3.58           12.76   \n",
       "JP_Sales               3.77               6.81            3.79   \n",
       "Other_Sales            8.45               0.77            3.29   \n",
       "Global_Sales          82.53              40.24           35.52   \n",
       "Critic_Score             76                NaN              82   \n",
       "Critic_Count             51                NaN              73   \n",
       "User_Score                8                NaN             8.3   \n",
       "User_Count              322                NaN             709   \n",
       "Developer          Nintendo                NaN        Nintendo   \n",
       "Rating                    E                NaN               E   \n",
       "\n",
       "                                 3                         4  \n",
       "Name             Wii Sports Resort  Pokemon Red/Pokemon Blue  \n",
       "Platform                       Wii                        GB  \n",
       "Year_of_Release               2009                      1996  \n",
       "Genre                       Sports              Role-Playing  \n",
       "Publisher                 Nintendo                  Nintendo  \n",
       "NA_Sales                     15.61                     11.27  \n",
       "EU_Sales                     10.93                      8.89  \n",
       "JP_Sales                      3.28                     10.22  \n",
       "Other_Sales                   2.95                         1  \n",
       "Global_Sales                 32.77                     31.37  \n",
       "Critic_Score                    80                       NaN  \n",
       "Critic_Count                    73                       NaN  \n",
       "User_Score                       8                       NaN  \n",
       "User_Count                     192                       NaN  \n",
       "Developer                 Nintendo                       NaN  \n",
       "Rating                           E                       NaN  "
      ]
     },
     "execution_count": 12,
     "metadata": {},
     "output_type": "execute_result"
    }
   ],
   "source": [
    "game_df.head(5).T"
   ]
  },
  {
   "cell_type": "markdown",
   "metadata": {},
   "source": [
    "### trainデータとtestデータに分割"
   ]
  },
  {
   "cell_type": "code",
   "execution_count": 82,
   "metadata": {},
   "outputs": [],
   "source": [
    "from sklearn.model_selection import train_test_split\n",
    "train_df, test_df = train_test_split(game_df, test_size=0.5, random_state=2)"
   ]
  },
  {
   "cell_type": "code",
   "execution_count": 83,
   "metadata": {},
   "outputs": [],
   "source": [
    "train_df = train_df.reset_index(drop=True)\n",
    "test_df = test_df.reset_index(drop=True)"
   ]
  },
  {
   "cell_type": "code",
   "execution_count": 84,
   "metadata": {},
   "outputs": [
    {
     "data": {
      "text/plain": [
       "((8359, 16), (8360, 16))"
      ]
     },
     "execution_count": 84,
     "metadata": {},
     "output_type": "execute_result"
    }
   ],
   "source": [
    "train_df.shape, test_df.shape"
   ]
  },
  {
   "cell_type": "markdown",
   "metadata": {},
   "source": [
    "### 連続変数の特徴量"
   ]
  },
  {
   "cell_type": "code",
   "execution_count": 88,
   "metadata": {},
   "outputs": [],
   "source": [
    "def preprocess(input_df: pd.DataFrame) -> pd.DataFrame:\n",
    "    output_df = input_df.copy()\n",
    "\n",
    "    idx_tbd = input_df['User_Score'] == 'tbd'\n",
    "    output_df['User_Score_is_tbd'] = idx_tbd.astype(int)\n",
    "\n",
    "    output_df['User_Score'] = input_df['User_Score'].replace('tbd', None).astype(float)\n",
    "    return output_df\n",
    "\n",
    "def create_continuous_features(input_df):\n",
    "    input_df = preprocess(input_df)\n",
    "    use_columns = [\n",
    "        # 連続変数\n",
    "        'Critic_Score',\n",
    "        'Critic_Count', \n",
    "        'User_Score', \n",
    "        'User_Count',\n",
    "        'Year_of_Release',\n",
    "        'User_Score_is_tbd'\n",
    "    ]\n",
    "    return input_df[use_columns].copy()"
   ]
  },
  {
   "cell_type": "markdown",
   "metadata": {},
   "source": [
    "### Booleanの特徴量"
   ]
  },
  {
   "cell_type": "code",
   "execution_count": 89,
   "metadata": {},
   "outputs": [],
   "source": [
    "def create_boolean_feature(input_df):\n",
    "    output_df = pd.DataFrame()\n",
    "\n",
    "    texts = [\n",
    "        'nintendo', \n",
    "    ]\n",
    "\n",
    "    for t in texts:\n",
    "        output_df[f'Developer_has_{t}'] = input_df['Developer'].fillna('').str.lower().str.contains(t).astype(int)\n",
    "    return output_df"
   ]
  },
  {
   "cell_type": "markdown",
   "metadata": {},
   "source": [
    "### CountEncoding"
   ]
  },
  {
   "cell_type": "code",
   "execution_count": 90,
   "metadata": {},
   "outputs": [],
   "source": [
    "class BaseBlock(object):\n",
    "    def fit(self, input_df, y=None):\n",
    "        return self.transform(input_df)\n",
    "\n",
    "    def transform(self, input_df):\n",
    "        raise NotImplementedError()"
   ]
  },
  {
   "cell_type": "code",
   "execution_count": 91,
   "metadata": {},
   "outputs": [],
   "source": [
    "class CountEncodingBlock(BaseBlock):\n",
    "    def __init__(self, column, whole_df: pd.DataFrame):\n",
    "        self.column = column\n",
    "        self.whole_df = whole_df\n",
    "\n",
    "    def transform(self, input_df):\n",
    "        output_df = pd.DataFrame()\n",
    "        c = self.column\n",
    "\n",
    "        vc = self.whole_df[c].value_counts()\n",
    "        output_df[c] = input_df[c].map(vc)\n",
    "        return output_df.add_prefix('CE_')"
   ]
  },
  {
   "cell_type": "markdown",
   "metadata": {},
   "source": [
    "### OneHotEncoding"
   ]
  },
  {
   "cell_type": "code",
   "execution_count": 92,
   "metadata": {},
   "outputs": [],
   "source": [
    "class OneHotBlock(BaseBlock):\n",
    "    def __init__(self, column: str):\n",
    "        self.column = column\n",
    "        self.cats_ = None\n",
    "\n",
    "    def fit(self, input_df, y=None):\n",
    "        vc = input_df[self.column].dropna().value_counts()\n",
    "        cats = vc[vc > 40].index\n",
    "        self.cats_ = cats\n",
    "        return self.transform(input_df)\n",
    "\n",
    "    def transform(self, input_df):\n",
    "        x = pd.Categorical(input_df[self.column], categories=self.cats_)\n",
    "        out_df = pd.get_dummies(x, dummy_na=False)\n",
    "        out_df.columns = out_df.columns.tolist()\n",
    "        return out_df.add_prefix(f'OH_{self.column}=')"
   ]
  },
  {
   "cell_type": "code",
   "execution_count": 93,
   "metadata": {},
   "outputs": [],
   "source": [
    "class WrapperBlock(BaseBlock):\n",
    "    def __init__(self, function):\n",
    "        self.function = function\n",
    "\n",
    "    def transform(self, input_df):\n",
    "        return self.function(input_df)"
   ]
  },
  {
   "cell_type": "code",
   "execution_count": 94,
   "metadata": {},
   "outputs": [],
   "source": [
    "process_blocks = [\n",
    "    WrapperBlock(create_continuous_features),\n",
    "    WrapperBlock(create_boolean_feature),\n",
    "    *[OneHotBlock(c) for c in ['Platform', 'Genre', 'Publisher', 'Rating']],\n",
    "    *[CountEncodingBlock(c, whole_df=game_df) for c in ['Name', 'Platform', 'Year_of_Release', 'Genre', 'Publisher', 'Rating']],\n",
    "]"
   ]
  },
  {
   "cell_type": "code",
   "execution_count": 95,
   "metadata": {},
   "outputs": [],
   "source": [
    "from tqdm import tqdm\n",
    "\n",
    "\n",
    "def get_function(block, is_train):\n",
    "    s = mapping = {\n",
    "        True: 'fit',\n",
    "        False: 'transform'\n",
    "    }.get(is_train)\n",
    "    return getattr(block, s)\n",
    "\n",
    "\n",
    "def to_feature(input_df, \n",
    "               blocks,\n",
    "               is_train=False):\n",
    "    out_df = pd.DataFrame()\n",
    "\n",
    "    for block in tqdm(blocks, total=len(blocks)):\n",
    "        func = get_function(block, is_train)\n",
    "\n",
    "        _df = func(input_df)\n",
    "\n",
    "        assert len(_df) == len(input_df), func.__name__\n",
    "        out_df = pd.concat([out_df, _df], axis=1)\n",
    "\n",
    "    return out_df"
   ]
  },
  {
   "cell_type": "code",
   "execution_count": 113,
   "metadata": {},
   "outputs": [
    {
     "name": "stderr",
     "output_type": "stream",
     "text": [
      "100%|██████████| 12/12 [00:00<00:00, 102.30it/s]\n",
      "100%|██████████| 12/12 [00:00<00:00, 198.00it/s]\n"
     ]
    }
   ],
   "source": [
    "train_feat_df = to_feature(train_df, process_blocks, is_train=True)\n",
    "test_feat_df = to_feature(test_df, process_blocks)"
   ]
  },
  {
   "cell_type": "markdown",
   "metadata": {},
   "source": [
    "### 欠損値を雑に0埋め"
   ]
  },
  {
   "cell_type": "code",
   "execution_count": 114,
   "metadata": {},
   "outputs": [],
   "source": [
    "train_feat_df = train_feat_df.fillna(0)\n",
    "test_feat_df = test_feat_df.fillna(0)"
   ]
  },
  {
   "cell_type": "markdown",
   "metadata": {},
   "source": [
    "### ニューラルネットワーク"
   ]
  },
  {
   "cell_type": "code",
   "execution_count": 127,
   "metadata": {},
   "outputs": [
    {
     "data": {
      "text/plain": [
       "3.633149119441224"
      ]
     },
     "execution_count": 127,
     "metadata": {},
     "output_type": "execute_result"
    }
   ],
   "source": [
    "from sklearn.neural_network import MLPRegressor\n",
    "from sklearn.metrics import mean_absolute_error\n",
    "\n",
    "model = MLPRegressor(random_state=2)\n",
    "model.fit(train_feat_df, train_df['Global_Sales'])\n",
    "\n",
    "mean_absolute_error(model.predict(test_feat_df), test_df['Global_Sales'])"
   ]
  },
  {
   "cell_type": "markdown",
   "metadata": {},
   "source": [
    "### 決定木"
   ]
  },
  {
   "cell_type": "code",
   "execution_count": 124,
   "metadata": {},
   "outputs": [
    {
     "data": {
      "text/plain": [
       "0.5037113750284804"
      ]
     },
     "execution_count": 124,
     "metadata": {},
     "output_type": "execute_result"
    }
   ],
   "source": [
    "from sklearn.tree import DecisionTreeRegressor\n",
    "from sklearn.metrics import mean_absolute_error\n",
    "\n",
    "model = DecisionTreeRegressor()\n",
    "model.fit(train_feat_df, train_df['Global_Sales'])\n",
    "\n",
    "mean_absolute_error(model.predict(test_feat_df), test_df['Global_Sales'])"
   ]
  },
  {
   "cell_type": "markdown",
   "metadata": {},
   "source": [
    "### SVM"
   ]
  },
  {
   "cell_type": "code",
   "execution_count": 128,
   "metadata": {},
   "outputs": [
    {
     "data": {
      "text/plain": [
       "0.4373421514774"
      ]
     },
     "execution_count": 128,
     "metadata": {},
     "output_type": "execute_result"
    }
   ],
   "source": [
    "from sklearn.svm import SVR\n",
    "from sklearn.metrics import mean_absolute_error\n",
    "\n",
    "model = SVR()\n",
    "model.fit(train_feat_df, train_df['Global_Sales'])\n",
    "\n",
    "mean_absolute_error(model.predict(test_feat_df), test_df['Global_Sales'])"
   ]
  },
  {
   "cell_type": "markdown",
   "metadata": {},
   "source": [
    "## 結果  \n",
    "mae 平均絶対誤差を見た結果(パラメータはsklearnの初期値のまま)\n",
    "- NN: 3.633149119441224\n",
    "- 決定木(回帰木): 0.5037113750284804\n",
    "- SVR(SVR): 0.4373421514774  \n",
    "\n",
    "parameter searchを行っていないため, 性能比較とは言えない.  \n",
    "特に, ニューラルネットワークに関しては, デフォルトのニューロン数がかなり少ない"
   ]
  },
  {
   "cell_type": "code",
   "execution_count": null,
   "metadata": {},
   "outputs": [],
   "source": []
  }
 ],
 "metadata": {
  "kernelspec": {
   "display_name": "Python 3",
   "language": "python",
   "name": "python3"
  },
  "language_info": {
   "codemirror_mode": {
    "name": "ipython",
    "version": 3
   },
   "file_extension": ".py",
   "mimetype": "text/x-python",
   "name": "python",
   "nbconvert_exporter": "python",
   "pygments_lexer": "ipython3",
   "version": "3.7.9"
  }
 },
 "nbformat": 4,
 "nbformat_minor": 4
}
